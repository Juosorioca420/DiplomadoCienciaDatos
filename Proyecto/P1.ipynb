{
  "nbformat": 4,
  "nbformat_minor": 0,
  "metadata": {
    "colab": {
      "provenance": [],
      "authorship_tag": "ABX9TyNcBlF87MjHqboK8io8Nsug",
      "include_colab_link": true
    },
    "kernelspec": {
      "name": "python3",
      "display_name": "Python 3"
    },
    "language_info": {
      "name": "python"
    }
  },
  "cells": [
    {
      "cell_type": "markdown",
      "metadata": {
        "id": "view-in-github",
        "colab_type": "text"
      },
      "source": [
        "<a href=\"https://colab.research.google.com/github/Juosorioca420/DiplomadoCienciaDatos/blob/main/Proyecto/P1.ipynb\" target=\"_parent\"><img src=\"https://colab.research.google.com/assets/colab-badge.svg\" alt=\"Open In Colab\"/></a>"
      ]
    },
    {
      "cell_type": "markdown",
      "source": [
        "<h1>Predicción del Valor de un Activo Volátil usando Aprendizaje de Máquina para la Construcción de Portafolios Diversificados</h1>\n",
        "\n",
        "---"
      ],
      "metadata": {
        "id": "IKXlf0anKOhg"
      }
    },
    {
      "cell_type": "markdown",
      "source": [
        "# Reporte 1: Propuesta Inicial y Motivación.\n",
        "\n",
        "Julián D. Osorio."
      ],
      "metadata": {
        "id": "yRfkwNt5OgHv"
      }
    },
    {
      "cell_type": "markdown",
      "source": [
        "## Introducción.\n",
        "\n",
        "En el presente se pretende predecir el valor del Fondo de Inversión Cotizado (ETF) **VEIEX**,  que lista las principales acciones de los Mercados Emergentes más pujantes. Al emplear técnicas de modelado para pronosticar el valor del ETF, sera posible calcular el retorno esperado y así evaluar la integración de dicho ETF en un portafolio como activo de riesgo, donde la promesa de un incremento de rendimeinto promedio significativo, justifique la alta volatilidad caracteristica de los Mercados Emergentes.\n",
        "\n",
        "Se aplicará adicionalmente la teoría de portafolios de Markowitz para diversificar el portafolio con activos de bajo riesgo."
      ],
      "metadata": {
        "id": "rTllo1-UOwlG"
      }
    },
    {
      "cell_type": "markdown",
      "source": [
        "## Descripción del Problema.\n",
        "\n",
        "El valor del VEIEX - ETF en mercados emergentes es altamente volátil, que por la naturaleza de las economías locales, está particularmente sujeto a una serie de factores macroeconómicos y geopolíticos.\n",
        "\n",
        "Predecir su valor con precisión permitirá a los inversionistas tomar decisiones informadas sobre su inclusión en un portafolio de inversiones; en pos de aprovechar dicha volatilidad para el incremento del valor de los activos del portafolio en el tiempo, o si por el contrario, el riesgo que acarrea no es tolerable considerando su rendimiento esperado."
      ],
      "metadata": {
        "id": "Q4hSIl46QR04"
      }
    },
    {
      "cell_type": "markdown",
      "source": [
        "## Fuentes de Datos.\n",
        "Se utilizarán datos históricos de VEIEX, así como indicadores del S&P 500 como activo de riesgo bajo.\n",
        "\n",
        "Estos datos se pueden encontrar en las bases de datos de [Yahoo Finance](https://finance.yahoo.com/quote/VEIEX/history/)."
      ],
      "metadata": {
        "id": "UOCTvOvARy7A"
      }
    },
    {
      "cell_type": "markdown",
      "source": [
        "## Procesamiento ETL.\n",
        "\n",
        "\n",
        "El proceso de Extracción, Transformación y Carga implica la recolección de datos históricos del ETF y los indicadores del S&P 500, su limpieza para extraer valores de dividendos que por sencillez no serán considerados en este caso.\n",
        "\n",
        "Luego se integrarán estos datos en un formato adecuado para el modelado. Se implementa una API de Python para la extracción eficiente de los datos, puntualmente **yfinance**."
      ],
      "metadata": {
        "id": "giw1mEApSZpW"
      }
    },
    {
      "cell_type": "markdown",
      "source": [
        "## Exploración de los Datos.\n",
        "\n",
        "Para comprender y describir los datos, en un primer momento, se utilizarán diversas técnicas.\n",
        "\n",
        "1. Muestras de los datos con Pandas para hacerse una idea preliminar de la información.\n",
        "1. Estadísticas descriptivas para analizar tendencias y posibles distribuciones.\n",
        "1. Gráficos univariados para visualizar la variación de los precios a lo largo del tiempo."
      ],
      "metadata": {
        "id": "n1kMEC8HTlOf"
      }
    },
    {
      "cell_type": "markdown",
      "source": [
        "## Técnicas de Modelación.\n",
        "\n",
        "Inicialmente, se propone la utilización de dos técnicas de modelado para comparar su rendimiento.\n",
        "\n",
        "> Bosques Aleatorios: Un modelo de aprendizaje automático basado en ensambles que suele ser preciso y puede manejar características altamente correlacionadas. Cada árbol de decisión en el bosque se entrena con una muestra aleatoria de los datos y luego se combinan las predicciones de todos los árboles para obtener una predicción final.\n",
        "\n",
        "> Red LSTM: Una red neuronal recurrente (Long-Short Term Memory) que es adecuada para modelar secuencias de datos, como series temporales financieras."
      ],
      "metadata": {
        "id": "2g93_Yh6T6mP"
      }
    },
    {
      "cell_type": "markdown",
      "source": [
        "## Conocimientos Requeridos.\n",
        "\n",
        "Para el desarrollo exitoso de este proyecto, se consideran los siguientes conocimientos.\n",
        "\n",
        "\n",
        "- Familiaridad con conceptos básicos Financieros y de Teoría de Portafolios.\n",
        "- Nivel intermedio en Python para el procesamiento de datos y modelado usando Pandas y Yfinance.\n",
        "- Familiarida con Scikit-learn para aplicar Random Forest.\n",
        "- Conocimientos fundamentales en series temporales y redes neuronales para el uso de LSTM.\n",
        "\n"
      ],
      "metadata": {
        "id": "LoQoIlGgVH5f"
      }
    },
    {
      "cell_type": "markdown",
      "source": [
        "## Resultados Esperados.\n",
        "\n",
        "Se espera desarrollar modelos de predicción que proporcionen estimaciones precisas del valor del VEIEX - ETF de mercados emergentes. Estos modelos permitirán calcular el retorno esperado, para evaluar su inclusión en un portafolio diversificado. Además, se espera demostrar la eficacia comparativa entre los dos enfoques de modelado propuestos."
      ],
      "metadata": {
        "id": "Nc-9IypyZJoO"
      }
    },
    {
      "cell_type": "markdown",
      "source": [
        "## Tiempo Previsto.\n",
        "\n",
        "El proyecto se estima que tomará alrededor de 6 semanas para completarse.\n",
        "\n",
        " Minetras se investigan las herramientas tecnicas necesarias para el proyecto e incluyendo la recopilación y procesamiento de datos, la exploración y modelación y por ultimo la evaluación de resultados."
      ],
      "metadata": {
        "id": "VLXUqvXxVoIm"
      }
    },
    {
      "cell_type": "markdown",
      "source": [
        "## Bibliografía.\n",
        "\n",
        "Markowitz, H. M. (1952). Portfolio Selection. The Journal of Finance, 7(1), 77-91.\n",
        "\n",
        "Ghorp, S. (2021). PortAnalytics - Data Repository for Portfolio Analytics. GitHub Repository\n",
        "\n",
        "Hochreiter, S., & Schmidhuber, J. (1997). Long Short-Term Memory. Neural Computation, 9(8), 1735-1780. ( [ Wiki ](https://en.wikipedia.org/wiki/Long_short-term_memory)  )"
      ],
      "metadata": {
        "id": "JNqc688NWKl2"
      }
    }
  ]
}